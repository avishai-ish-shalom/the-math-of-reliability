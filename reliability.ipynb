{
 "cells": [
  {
   "cell_type": "code",
   "execution_count": 3,
   "metadata": {
    "collapsed": false
   },
   "outputs": [
    {
     "name": "stdout",
     "output_type": "stream",
     "text": [
      "Populating the interactive namespace from numpy and matplotlib\n"
     ]
    }
   ],
   "source": [
    "%pylab inline\n",
    "import scipy, scipy.misc"
   ]
  },
  {
   "cell_type": "code",
   "execution_count": 4,
   "metadata": {
    "collapsed": true
   },
   "outputs": [],
   "source": [
    "def r_to_mtbf(r):\n",
    "    return 1 / (1 - r)"
   ]
  },
  {
   "cell_type": "markdown",
   "metadata": {},
   "source": [
    "The reliability of a parallel system can be computed by the formula:\n",
    "$$R_{total} = \\sum_{i=0}^{k} \\binom{n}{k} R^{i} F^{n-i}$$"
   ]
  },
  {
   "cell_type": "code",
   "execution_count": 20,
   "metadata": {
    "collapsed": false
   },
   "outputs": [
    {
     "data": {
      "image/png": "[encoded data removed]",
      "text/plain": [
       "<matplotlib.figure.Figure at 0x7fa7b3c1eb50>"
      ]
     },
     "metadata": {},
     "output_type": "display_data"
    }
   ],
   "source": [
    "def r_prob(r, n, k):\n",
    "    \"\"\"The reliability of parallel system with n component that can tolerate up to k failures\n",
    "    \"\"\"\n",
    "    return sum([scipy.misc.comb(n, i)*(1-r)**i*r**(n-i) for i in range(0,k+1)])\n",
    "\n",
    "vec_r_prob = np.vectorize(r_prob)\n",
    "\n",
    "ax = plt.subplot(111)\n",
    "r = 0.95\n",
    "\n",
    "for n, color in [(10, 'b'), (100, 'g'), (400, 'c')]:\n",
    "    x = np.linspace(1, n, n, dtype='int')\n",
    "    ax.plot(x / float(n) * 100, vec_r_prob(r, n, x), label='n=%d' % n, color=color, marker='o')\n",
    "\n",
    "# plot formatting stuff, not really interesting\n",
    "ax.axhline(r, color='r', label='R=%0.2f' % r)\n",
    "ax.legend()\n",
    "ax.set_xlabel('failures tolerated as percentage of n')\n",
    "ax.set_ylabel('R - system reliability')\n",
    "ax.set_yticks(np.arange(0, 1.2, 0.2))\n",
    "ax.set_yticks(np.arange(0, 1.05, 0.05), minor=True)\n",
    "ax.set_xticks(np.arange(0, 101, 5), minor=True)\n",
    "ax.tick_params(which = 'both', direction = 'out')\n",
    "ax.set_ylim(0, 1.0)\n",
    "ax.set_xlim(0, 40)\n",
    "ax.grid(which='major', alpha=0.7)\n",
    "ax.grid(which='minor', alpha=0.3)"
   ]
  },
  {
   "cell_type": "markdown",
   "metadata": {},
   "source": [
    "From the above graph we can see that as n grows we need smaller redundancy to achieve the same reliability. With 10 machines we need 20% redundancy to be more reliable than single node, with 100 only 9% and with 400 nodes only 6% redudancy.\n",
    "We can also see that with small redudancy reliability actually *decreases*, because there are more options for failure."
   ]
  },
  {
   "cell_type": "code",
   "execution_count": 17,
   "metadata": {
    "collapsed": false
   },
   "outputs": [
    {
     "name": "stdout",
     "output_type": "stream",
     "text": [
      "r_comp=0.95, mtbf_comp=19, r_total=0.9885, mtbf_total=86\n",
      "r_comp=0.99, mtbf_comp=99, r_total=0.9999, mtbf_total=8783\n"
     ]
    }
   ],
   "source": [
    "for r, n, k in [(0.95, 10, 2), (0.99, 10, 2)]:\n",
    "    r_total = r_prob(r, n, k)\n",
    "    print \"r_comp=%.2f, mtbf_comp=%d, r_total=%.4f, mtbf_total=%d\" % (r, r_to_mtbf(r), r_total, r_to_mtbf(r_total))\n"
   ]
  },
  {
   "cell_type": "markdown",
   "metadata": {},
   "source": [
    "From this we see that redundancy acts as a multiplier on component MTBF - improving component MTBF 5x improves total MTBF by a factor of 100!\n",
    "So redudancy will have higher ROI if your components are already reliable."
   ]
  }
 ],
 "metadata": {
  "kernelspec": {
   "display_name": "Python 2",
   "language": "python",
   "name": "python2"
  },
  "language_info": {
   "codemirror_mode": {
    "name": "ipython",
    "version": 2
   },
   "file_extension": ".py",
   "mimetype": "text/x-python",
   "name": "python",
   "nbconvert_exporter": "python",
   "pygments_lexer": "ipython2",
   "version": "2.7.10"
  }
 },
 "nbformat": 4,
 "nbformat_minor": 0
}
